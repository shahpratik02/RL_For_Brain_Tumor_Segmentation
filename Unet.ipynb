{
 "cells": [
  {
   "cell_type": "code",
   "execution_count": 1,
   "metadata": {},
   "outputs": [
    {
     "name": "stderr",
     "output_type": "stream",
     "text": [
      "2024-04-03 22:07:53.588530: I tensorflow/core/util/port.cc:113] oneDNN custom operations are on. You may see slightly different numerical results due to floating-point round-off errors from different computation orders. To turn them off, set the environment variable `TF_ENABLE_ONEDNN_OPTS=0`.\n",
      "2024-04-03 22:07:53.611602: E external/local_xla/xla/stream_executor/cuda/cuda_dnn.cc:9261] Unable to register cuDNN factory: Attempting to register factory for plugin cuDNN when one has already been registered\n",
      "2024-04-03 22:07:53.611628: E external/local_xla/xla/stream_executor/cuda/cuda_fft.cc:607] Unable to register cuFFT factory: Attempting to register factory for plugin cuFFT when one has already been registered\n",
      "2024-04-03 22:07:53.612470: E external/local_xla/xla/stream_executor/cuda/cuda_blas.cc:1515] Unable to register cuBLAS factory: Attempting to register factory for plugin cuBLAS when one has already been registered\n",
      "2024-04-03 22:07:53.616897: I tensorflow/core/platform/cpu_feature_guard.cc:182] This TensorFlow binary is optimized to use available CPU instructions in performance-critical operations.\n",
      "To enable the following instructions: AVX2 AVX_VNNI FMA, in other operations, rebuild TensorFlow with the appropriate compiler flags.\n",
      "2024-04-03 22:07:54.022654: W tensorflow/compiler/tf2tensorrt/utils/py_utils.cc:38] TF-TRT Warning: Could not find TensorRT\n"
     ]
    },
    {
     "name": "stdout",
     "output_type": "stream",
     "text": [
      "Segmentation Models: using `keras` framework.\n"
     ]
    }
   ],
   "source": [
    "import matplotlib.pyplot as plt\n",
    "import matplotlib.image as mpimg\n",
    "import os\n",
    "import random\n",
    "import numpy as np \n",
    "import time\n",
    "import random\n",
    "from collections import deque\n",
    "import tensorflow as tf\n",
    "from tqdm import tqdm \n",
    "from tensorflow.keras import Sequential \n",
    "from tensorflow.keras.activations import relu, linear\n",
    "from tensorflow.keras.layers import Dense\n",
    "from tensorflow.keras.optimizers import RMSprop\n",
    "import math\n",
    "import PIL.Image\n",
    "from tensorflow.keras import backend as K\n",
    "import cv2\n",
    "import segmentation_models as sm\n",
    "from IPython import display\n",
    "import copy\n",
    "from skimage.color import rgb2gray\n",
    "import random\n",
    "import gc\n",
    "\n"
   ]
  },
  {
   "cell_type": "code",
   "execution_count": 2,
   "metadata": {},
   "outputs": [],
   "source": [
    "N_IMAGES=5000"
   ]
  },
  {
   "cell_type": "code",
   "execution_count": 3,
   "metadata": {},
   "outputs": [],
   "source": [
    "img_path=r'/home/bhavik/Desktop/Pratik/brats_dataset/images/brats2020flair/'\n",
    "mask_path=r'/home/bhavik/Desktop/Pratik/brats_dataset/masks/brats2020mask/'"
   ]
  },
  {
   "cell_type": "code",
   "execution_count": 4,
   "metadata": {},
   "outputs": [],
   "source": [
    "images=[]\n",
    "masks=[]"
   ]
  },
  {
   "cell_type": "code",
   "execution_count": 5,
   "metadata": {},
   "outputs": [],
   "source": [
    "# def get_images(img_path=img_path,mask_path=mask_path,number=5000,threshold=0.01):\n",
    "#     #storing 5000 images and masks in the lists images and masks. Only storing those images in which masked region is greater than 1% \n",
    "#     #and combining different mask calsses into one\n",
    "#     images=[]\n",
    "#     masks=[]\n",
    "#     grays=[]\n",
    "#     for root, dirs, files in os.walk(img_path,mask_path):\n",
    "#         print(len(files))\n",
    "#         for i,name in enumerate(files):\n",
    "#             image_path = img_path+name\n",
    "#             msk_path=mask_path+name.replace(\"flair\",\"seg\")\n",
    "#             try:\n",
    "#                 image = PIL.Image.open(image_path)\n",
    "#                 mask=PIL.Image.open(msk_path)\n",
    "#                 # Convert the mask to grayscale.\n",
    "#                 gray_mask = np.mean(mask.convert('RGB'), axis=2)\n",
    "#                 # Resize the mask to 240x240x1.\n",
    "                \n",
    "#                 resized_mask = np.resize(gray_mask, (240, 240,1))\n",
    "#                 val, counts = np.unique(resized_mask, return_counts=True)\n",
    "#                 if (1 - (counts[0]/counts.sum())) > threshold:\n",
    "#                     images.append(np.array(image.convert('RGB'))/255)\n",
    "#                     masks.append(np.array(resized_mask)/255)\n",
    "#                     grays.append(rgb2gray(np.array(image.convert('RGB'))/255))\n",
    "#             except:\n",
    "#                 continue\n",
    "#             if len(images)==number-1:\n",
    "#                 break\n",
    "#     images_array=np.array(images)\n",
    "#     masks_array=np.array(masks)\n",
    "#     bw_images_array=np.array(grays)\n",
    "#     unique_values=np.unique(masks_array[:100])\n",
    "#     masks_array[masks_array==unique_values[1]]=1\n",
    "#     masks_array[masks_array==unique_values[2]]=1\n",
    "\n",
    "#     del images,masks\n",
    "#     return images_array,masks_array,bw_images_array"
   ]
  },
  {
   "cell_type": "code",
   "execution_count": 6,
   "metadata": {},
   "outputs": [],
   "source": [
    "def get_images(img_path=img_path,mask_path=mask_path,number=5000,threshold=0.1,patient_number_lower=00,patient_number_higher=300):\n",
    "    #storing 5000 images and masks in the lists images and masks. Only storing those images in which masked region is greater than 1% \n",
    "    #and combining different mask calsses into one\n",
    "    images=[]\n",
    "    masks=[]\n",
    "    grays=[]\n",
    "    for root, dirs, files in os.walk(img_path,mask_path):\n",
    "        print(len(files))\n",
    "        for i,name in enumerate(files):\n",
    "            image_path = img_path+name\n",
    "            msk_path=mask_path+name.replace(\"flair\",\"seg\")\n",
    "            if patient_number_lower<=int(image_path.split(\"flair\")[1][-3:])<=patient_number_higher:\n",
    "                try:\n",
    "                    image = PIL.Image.open(image_path)\n",
    "                    mask=PIL.Image.open(msk_path)\n",
    "                    # Convert the mask to grayscale.\n",
    "                    gray_mask = np.mean(mask.convert('RGB'), axis=2)\n",
    "                    # Resize the mask to 240x240x1.\n",
    "                    \n",
    "                    resized_mask = np.resize(gray_mask, (240, 240,1))\n",
    "                    val, counts = np.unique(resized_mask, return_counts=True)\n",
    "                    if (1 - (counts[0]/counts.sum())) > threshold:\n",
    "                        images.append(np.array(image.convert('RGB'))/255)\n",
    "                        masks.append(np.array(resized_mask)/255)\n",
    "                        grays.append(rgb2gray(np.array(image.convert('RGB'))/255))\n",
    "                except:\n",
    "                    continue\n",
    "                if len(images)==number-1:\n",
    "                    break\n",
    "            else:\n",
    "                continue\n",
    "    images_array=np.array(images)\n",
    "    masks_array=np.array(masks)\n",
    "    bw_images_array=np.array(grays)\n",
    "    unique_values=np.unique(masks_array[:100])\n",
    "    masks_array[masks_array==unique_values[1]]=1\n",
    "    masks_array[masks_array==unique_values[2]]=1\n",
    "\n",
    "    del images,masks\n",
    "    return images_array,masks_array,bw_images_array"
   ]
  },
  {
   "cell_type": "code",
   "execution_count": 7,
   "metadata": {},
   "outputs": [
    {
     "name": "stdout",
     "output_type": "stream",
     "text": [
      "57196\n"
     ]
    }
   ],
   "source": [
    "images_array, masks_array,bw_images_array=get_images(img_path=img_path,mask_path=mask_path,number=251,threshold=0.05,patient_number_lower=00,patient_number_higher=200)"
   ]
  },
  {
   "cell_type": "code",
   "execution_count": 8,
   "metadata": {},
   "outputs": [
    {
     "name": "stdout",
     "output_type": "stream",
     "text": [
      "57196\n"
     ]
    }
   ],
   "source": [
    "test_images_array, test_masks_array,test_bw_images_array=get_images(img_path=img_path,mask_path=mask_path,number=51,threshold=0.01,patient_number_lower=201,patient_number_higher=350)"
   ]
  },
  {
   "cell_type": "code",
   "execution_count": 9,
   "metadata": {},
   "outputs": [
    {
     "name": "stdout",
     "output_type": "stream",
     "text": [
      "[0. 1.]\n",
      "[54704  2896]\n"
     ]
    }
   ],
   "source": [
    "val, counts = np.unique(masks_array[0], return_counts=True)\n",
    "print(val)\n",
    "print(counts)"
   ]
  },
  {
   "cell_type": "code",
   "execution_count": 10,
   "metadata": {},
   "outputs": [
    {
     "name": "stdout",
     "output_type": "stream",
     "text": [
      "(250, 240, 240, 2)\n",
      "(50, 240, 240, 2)\n"
     ]
    }
   ],
   "source": [
    "#converting mask class to one hot encoded vector\n",
    "from keras.utils import to_categorical\n",
    "masks_cat = to_categorical(masks_array, num_classes=2)\n",
    "test_masks_cat = to_categorical(test_masks_array, num_classes=2)\n",
    "\n",
    "print(masks_cat.shape)\n",
    "print(test_masks_cat.shape)"
   ]
  },
  {
   "cell_type": "code",
   "execution_count": 11,
   "metadata": {},
   "outputs": [],
   "source": [
    "X_train=images_array\n",
    "y_train=masks_cat\n",
    "bw_train=bw_images_array\n",
    "X_test=test_images_array\n",
    "y_test=test_masks_cat\n",
    "bw_test=test_bw_images_array"
   ]
  },
  {
   "cell_type": "code",
   "execution_count": 12,
   "metadata": {},
   "outputs": [
    {
     "name": "stdout",
     "output_type": "stream",
     "text": [
      "240\n",
      "240\n",
      "3\n"
     ]
    }
   ],
   "source": [
    "IMG_HEIGHT = images_array.shape[1]\n",
    "IMG_WIDTH  = images_array.shape[2]\n",
    "IMG_CHANNELS = images_array.shape[3]\n",
    "print(IMG_HEIGHT)\n",
    "print(IMG_WIDTH)\n",
    "print(IMG_CHANNELS)"
   ]
  },
  {
   "cell_type": "code",
   "execution_count": 13,
   "metadata": {},
   "outputs": [],
   "source": [
    "from tensorflow.keras.models import Model\n",
    "from tensorflow.keras.layers import Input, Conv2D, MaxPooling2D, UpSampling2D, concatenate, Conv2DTranspose, BatchNormalization, Dropout, Lambda\n",
    "from tensorflow.keras.optimizers import Adam\n",
    "from tensorflow.keras.metrics import MeanIoU\n",
    "\n",
    "kernel_initializer =  'he_uniform'"
   ]
  },
  {
   "cell_type": "code",
   "execution_count": 14,
   "metadata": {},
   "outputs": [],
   "source": [
    "def multi_unet_model(n_classes=2, IMG_HEIGHT=256, IMG_WIDTH=256, IMG_CHANNELS=1):\n",
    "#Build the model\n",
    "    inputs = Input((IMG_HEIGHT, IMG_WIDTH, IMG_CHANNELS))\n",
    "    #s = Lambda(lambda x: x / 255)(inputs)   #No need for this if we normalize our inputs beforehand\n",
    "    s = inputs\n",
    "\n",
    "    #Contraction path\n",
    "    c1 = Conv2D(16, (3, 3), activation='relu', kernel_initializer='he_normal', padding='same')(s)\n",
    "    c1 = Dropout(0.2)(c1)  # Original 0.1\n",
    "    c1 = Conv2D(16, (3, 3), activation='relu', kernel_initializer='he_normal', padding='same')(c1)\n",
    "    p1 = MaxPooling2D((2, 2))(c1)\n",
    "    \n",
    "    c2 = Conv2D(32, (3, 3), activation='relu', kernel_initializer='he_normal', padding='same')(p1)\n",
    "    c2 = Dropout(0.2)(c2)  # Original 0.1\n",
    "    c2 = Conv2D(32, (3, 3), activation='relu', kernel_initializer='he_normal', padding='same')(c2)\n",
    "    p2 = MaxPooling2D((2, 2))(c2)\n",
    "     \n",
    "    c3 = Conv2D(64, (3, 3), activation='relu', kernel_initializer='he_normal', padding='same')(p2)\n",
    "    c3 = Dropout(0.2)(c3)\n",
    "    c3 = Conv2D(64, (3, 3), activation='relu', kernel_initializer='he_normal', padding='same')(c3)\n",
    "    p3 = MaxPooling2D((2, 2))(c3)\n",
    "     \n",
    "    c4 = Conv2D(128, (3, 3), activation='relu', kernel_initializer='he_normal', padding='same')(p3)\n",
    "    c4 = Dropout(0.2)(c4)\n",
    "    c4 = Conv2D(128, (3, 3), activation='relu', kernel_initializer='he_normal', padding='same')(c4)\n",
    "    p4 = MaxPooling2D(pool_size=(2, 2))(c4)\n",
    "     \n",
    "    c5 = Conv2D(256, (3, 3), activation='relu', kernel_initializer='he_normal', padding='same')(p4)\n",
    "    c5 = Dropout(0.3)(c5)\n",
    "    c5 = Conv2D(256, (3, 3), activation='relu', kernel_initializer='he_normal', padding='same')(c5)\n",
    "    \n",
    "    #Expansive path \n",
    "    u6 = Conv2DTranspose(128, (2, 2), strides=(2, 2), padding='same')(c5)\n",
    "    u6 = concatenate([u6, c4])\n",
    "    c6 = Conv2D(128, (3, 3), activation='relu', kernel_initializer='he_normal', padding='same')(u6)\n",
    "    c6 = Dropout(0.2)(c6)\n",
    "    c6 = Conv2D(128, (3, 3), activation='relu', kernel_initializer='he_normal', padding='same')(c6)\n",
    "     \n",
    "    u7 = Conv2DTranspose(64, (2, 2), strides=(2, 2), padding='same')(c6)\n",
    "    u7 = concatenate([u7, c3])\n",
    "    c7 = Conv2D(64, (3, 3), activation='relu', kernel_initializer='he_normal', padding='same')(u7)\n",
    "    c7 = Dropout(0.2)(c7)\n",
    "    c7 = Conv2D(64, (3, 3), activation='relu', kernel_initializer='he_normal', padding='same')(c7)\n",
    "     \n",
    "    u8 = Conv2DTranspose(32, (2, 2), strides=(2, 2), padding='same')(c7)\n",
    "    u8 = concatenate([u8, c2])\n",
    "    c8 = Conv2D(32, (3, 3), activation='relu', kernel_initializer='he_normal', padding='same')(u8)\n",
    "    c8 = Dropout(0.2)(c8)  # Original 0.1\n",
    "    c8 = Conv2D(32, (3, 3), activation='relu', kernel_initializer='he_normal', padding='same')(c8)\n",
    "     \n",
    "    u9 = Conv2DTranspose(16, (2, 2), strides=(2, 2), padding='same')(c8)\n",
    "    u9 = concatenate([u9, c1], axis=3)\n",
    "    c9 = Conv2D(16, (3, 3), activation='relu', kernel_initializer='he_normal', padding='same')(u9)\n",
    "    c9 = Dropout(0.2)(c9)  # Original 0.1\n",
    "    c9 = Conv2D(16, (3, 3), activation='relu', kernel_initializer='he_normal', padding='same')(c9)\n",
    "     \n",
    "    outputs = Conv2D(n_classes, (1, 1), activation='softmax')(c9)\n",
    "     \n",
    "    model = Model(inputs=[inputs], outputs=[outputs])\n",
    "    \n",
    "    #NOTE: Compile the model in the main program to make it easy to test with various loss functions\n",
    "    #model.compile(optimizer='adam', loss='binary_crossentropy', metrics=['accuracy'])\n",
    "    \n",
    "    #model.summary()\n",
    "    \n",
    "    return model"
   ]
  },
  {
   "cell_type": "code",
   "execution_count": 15,
   "metadata": {},
   "outputs": [],
   "source": [
    "#dice loss\n",
    "dice_loss = sm.losses.DiceLoss()"
   ]
  },
  {
   "cell_type": "code",
   "execution_count": 16,
   "metadata": {},
   "outputs": [
    {
     "name": "stderr",
     "output_type": "stream",
     "text": [
      "2024-04-03 22:08:05.859991: I external/local_xla/xla/stream_executor/cuda/cuda_executor.cc:901] successful NUMA node read from SysFS had negative value (-1), but there must be at least one NUMA node, so returning NUMA node zero. See more at https://github.com/torvalds/linux/blob/v6.0/Documentation/ABI/testing/sysfs-bus-pci#L344-L355\n",
      "2024-04-03 22:08:05.880829: I external/local_xla/xla/stream_executor/cuda/cuda_executor.cc:901] successful NUMA node read from SysFS had negative value (-1), but there must be at least one NUMA node, so returning NUMA node zero. See more at https://github.com/torvalds/linux/blob/v6.0/Documentation/ABI/testing/sysfs-bus-pci#L344-L355\n",
      "2024-04-03 22:08:05.880949: I external/local_xla/xla/stream_executor/cuda/cuda_executor.cc:901] successful NUMA node read from SysFS had negative value (-1), but there must be at least one NUMA node, so returning NUMA node zero. See more at https://github.com/torvalds/linux/blob/v6.0/Documentation/ABI/testing/sysfs-bus-pci#L344-L355\n",
      "2024-04-03 22:08:05.881722: I external/local_xla/xla/stream_executor/cuda/cuda_executor.cc:901] successful NUMA node read from SysFS had negative value (-1), but there must be at least one NUMA node, so returning NUMA node zero. See more at https://github.com/torvalds/linux/blob/v6.0/Documentation/ABI/testing/sysfs-bus-pci#L344-L355\n",
      "2024-04-03 22:08:05.881800: I external/local_xla/xla/stream_executor/cuda/cuda_executor.cc:901] successful NUMA node read from SysFS had negative value (-1), but there must be at least one NUMA node, so returning NUMA node zero. See more at https://github.com/torvalds/linux/blob/v6.0/Documentation/ABI/testing/sysfs-bus-pci#L344-L355\n",
      "2024-04-03 22:08:05.881848: I external/local_xla/xla/stream_executor/cuda/cuda_executor.cc:901] successful NUMA node read from SysFS had negative value (-1), but there must be at least one NUMA node, so returning NUMA node zero. See more at https://github.com/torvalds/linux/blob/v6.0/Documentation/ABI/testing/sysfs-bus-pci#L344-L355\n",
      "2024-04-03 22:08:05.929261: I external/local_xla/xla/stream_executor/cuda/cuda_executor.cc:901] successful NUMA node read from SysFS had negative value (-1), but there must be at least one NUMA node, so returning NUMA node zero. See more at https://github.com/torvalds/linux/blob/v6.0/Documentation/ABI/testing/sysfs-bus-pci#L344-L355\n",
      "2024-04-03 22:08:05.929372: I external/local_xla/xla/stream_executor/cuda/cuda_executor.cc:901] successful NUMA node read from SysFS had negative value (-1), but there must be at least one NUMA node, so returning NUMA node zero. See more at https://github.com/torvalds/linux/blob/v6.0/Documentation/ABI/testing/sysfs-bus-pci#L344-L355\n",
      "2024-04-03 22:08:05.929436: I external/local_xla/xla/stream_executor/cuda/cuda_executor.cc:901] successful NUMA node read from SysFS had negative value (-1), but there must be at least one NUMA node, so returning NUMA node zero. See more at https://github.com/torvalds/linux/blob/v6.0/Documentation/ABI/testing/sysfs-bus-pci#L344-L355\n",
      "2024-04-03 22:08:05.929483: I tensorflow/core/common_runtime/gpu/gpu_device.cc:1929] Created device /job:localhost/replica:0/task:0/device:GPU:0 with 5625 MB memory:  -> device: 0, name: NVIDIA GeForce RTX 3070 Ti, pci bus id: 0000:01:00.0, compute capability: 8.6\n"
     ]
    }
   ],
   "source": [
    "unet_model=multi_unet_model(n_classes=2,IMG_HEIGHT=IMG_HEIGHT,IMG_WIDTH=IMG_WIDTH, IMG_CHANNELS=IMG_CHANNELS)"
   ]
  },
  {
   "cell_type": "code",
   "execution_count": 17,
   "metadata": {},
   "outputs": [],
   "source": [
    "unet_model.compile(optimizer=tf.keras.optimizers.Adam(learning_rate=1e-5), loss=dice_loss,metrics=['accuracy'])"
   ]
  },
  {
   "cell_type": "code",
   "execution_count": 18,
   "metadata": {},
   "outputs": [],
   "source": [
    "BATCH_SIZE_UNET=2"
   ]
  },
  {
   "cell_type": "code",
   "execution_count": 19,
   "metadata": {},
   "outputs": [],
   "source": [
    "with tf.device('CPU'):\n",
    "    X_train_unet=tf.data.Dataset.from_tensor_slices(X_train).batch(BATCH_SIZE_UNET)\n",
    "    y_train_unet=tf.data.Dataset.from_tensor_slices(tf.cast(y_train,tf.float32)).batch(BATCH_SIZE_UNET)\n",
    "    final_unet_dataset=tf.data.Dataset.zip((X_train_unet,y_train_unet))\n",
    "del X_train_unet\n",
    "del y_train_unet"
   ]
  },
  {
   "cell_type": "code",
   "execution_count": 20,
   "metadata": {},
   "outputs": [
    {
     "data": {
      "text/plain": [
       "(50, 240, 240, 3)"
      ]
     },
     "execution_count": 20,
     "metadata": {},
     "output_type": "execute_result"
    }
   ],
   "source": [
    "X_test.shape"
   ]
  },
  {
   "cell_type": "code",
   "execution_count": 21,
   "metadata": {},
   "outputs": [
    {
     "name": "stderr",
     "output_type": "stream",
     "text": [
      "2024-04-03 22:08:07.793638: E tensorflow/core/grappler/optimizers/meta_optimizer.cc:961] layout failed: INVALID_ARGUMENT: Size of values 0 does not match size of permutation 4 @ fanin shape inmodel/dropout/dropout/SelectV2-2-TransposeNHWCToNCHW-LayoutOptimizer\n",
      "2024-04-03 22:08:08.015870: I external/local_xla/xla/stream_executor/cuda/cuda_dnn.cc:454] Loaded cuDNN version 8902\n",
      "2024-04-03 22:08:09.048120: I external/local_xla/xla/service/service.cc:168] XLA service 0x7e90616f26b0 initialized for platform CUDA (this does not guarantee that XLA will be used). Devices:\n",
      "2024-04-03 22:08:09.048138: I external/local_xla/xla/service/service.cc:176]   StreamExecutor device (0): NVIDIA GeForce RTX 3070 Ti, Compute Capability 8.6\n",
      "2024-04-03 22:08:09.051490: I tensorflow/compiler/mlir/tensorflow/utils/dump_mlir_util.cc:269] disabling MLIR crash reproducer, set env var `MLIR_CRASH_REPRODUCER_DIRECTORY` to enable.\n",
      "WARNING: All log messages before absl::InitializeLog() is called are written to STDERR\n",
      "I0000 00:00:1712162289.106577  421698 device_compiler.h:186] Compiled cluster using XLA!  This line is logged at most once for the lifetime of the process.\n"
     ]
    },
    {
     "name": "stdout",
     "output_type": "stream",
     "text": [
      "{'loss': 0.5134329795837402, 'accuracy': 0.869383692741394}\n",
      "{'loss': 0.4982747435569763, 'accuracy': 0.875781238079071}\n",
      "{'loss': 0.500434160232544, 'accuracy': 0.8805642127990723}\n",
      "{'loss': 0.49678975343704224, 'accuracy': 0.8749305605888367}\n",
      "{'loss': 0.4969540238380432, 'accuracy': 0.8714149594306946}\n",
      "{'loss': 0.49495357275009155, 'accuracy': 0.8773784637451172}\n",
      "{'loss': 0.4938884973526001, 'accuracy': 0.8805902600288391}\n",
      "{'loss': 0.4951087236404419, 'accuracy': 0.8807117938995361}\n",
      "{'loss': 0.49222368001937866, 'accuracy': 0.8782031536102295}\n",
      "{'loss': 0.4825930595397949, 'accuracy': 0.8893923759460449}\n",
      "{'loss': 0.4696134924888611, 'accuracy': 0.9063802361488342}\n",
      "{'loss': 0.4387120008468628, 'accuracy': 0.9180294871330261}\n",
      "{'loss': 0.39824873208999634, 'accuracy': 0.9163194298744202}\n",
      "{'loss': 0.33712780475616455, 'accuracy': 0.9331510663032532}\n",
      "{'loss': 0.28003352880477905, 'accuracy': 0.9314669966697693}\n",
      "{'loss': 0.23210710287094116, 'accuracy': 0.9508854150772095}\n",
      "{'loss': 0.23463261127471924, 'accuracy': 0.9539409875869751}\n",
      "{'loss': 0.24445748329162598, 'accuracy': 0.9533072710037231}\n",
      "{'loss': 0.20094549655914307, 'accuracy': 0.956909716129303}\n",
      "{'loss': 0.17422723770141602, 'accuracy': 0.9654600620269775}\n",
      "{'loss': 0.1703658103942871, 'accuracy': 0.9654513597488403}\n",
      "{'loss': 0.1350555419921875, 'accuracy': 0.9715104103088379}\n",
      "{'loss': 0.14288049936294556, 'accuracy': 0.9678819179534912}\n",
      "{'loss': 0.11786401271820068, 'accuracy': 0.9734548330307007}\n",
      "{'loss': 0.1376253366470337, 'accuracy': 0.9701128602027893}\n",
      "{'loss': 0.17072582244873047, 'accuracy': 0.9665017127990723}\n",
      "{'loss': 0.1003730297088623, 'accuracy': 0.976475715637207}\n",
      "{'loss': 0.12599170207977295, 'accuracy': 0.9731510281562805}\n",
      "{'loss': 0.1339426040649414, 'accuracy': 0.971241295337677}\n",
      "{'loss': 0.12153440713882446, 'accuracy': 0.9739409685134888}\n",
      "{'loss': 0.11531960964202881, 'accuracy': 0.9735243320465088}\n",
      "{'loss': 0.09992283582687378, 'accuracy': 0.9762153029441833}\n",
      "{'loss': 0.1602485179901123, 'accuracy': 0.967968761920929}\n",
      "{'loss': 0.11180591583251953, 'accuracy': 0.9725868105888367}\n",
      "{'loss': 0.14165759086608887, 'accuracy': 0.9661718606948853}\n",
      "{'loss': 0.11369311809539795, 'accuracy': 0.9739409685134888}\n",
      "{'loss': 0.09724587202072144, 'accuracy': 0.9778211712837219}\n",
      "{'loss': 0.10782766342163086, 'accuracy': 0.976111114025116}\n",
      "{'loss': 0.11229735612869263, 'accuracy': 0.9741753339767456}\n",
      "{'loss': 0.10634303092956543, 'accuracy': 0.9756944179534912}\n",
      "{'loss': 0.09458935260772705, 'accuracy': 0.9777083396911621}\n",
      "{'loss': 0.10889160633087158, 'accuracy': 0.974644124507904}\n",
      "{'loss': 0.10194385051727295, 'accuracy': 0.9770920276641846}\n",
      "{'loss': 0.12340128421783447, 'accuracy': 0.9719271063804626}\n",
      "{'loss': 0.09821462631225586, 'accuracy': 0.9776389002799988}\n",
      "{'loss': 0.09158813953399658, 'accuracy': 0.9784201383590698}\n",
      "{'loss': 0.08674705028533936, 'accuracy': 0.9799479246139526}\n",
      "{'loss': 0.09169912338256836, 'accuracy': 0.9782552123069763}\n",
      "{'loss': 0.08706676959991455, 'accuracy': 0.9797569513320923}\n",
      "{'loss': 0.09866929054260254, 'accuracy': 0.977343738079071}\n",
      "{'loss': 0.11848711967468262, 'accuracy': 0.9736805558204651}\n",
      "{'loss': 0.10191488265991211, 'accuracy': 0.9765625}\n",
      "{'loss': 0.10927426815032959, 'accuracy': 0.9748003482818604}\n",
      "{'loss': 0.11361104249954224, 'accuracy': 0.9730729460716248}\n",
      "{'loss': 0.0901835560798645, 'accuracy': 0.9779860973358154}\n",
      "{'loss': 0.11331051588058472, 'accuracy': 0.9750694632530212}\n",
      "{'loss': 0.08563494682312012, 'accuracy': 0.9792013764381409}\n",
      "{'loss': 0.08942711353302002, 'accuracy': 0.9788802266120911}\n",
      "{'loss': 0.09072470664978027, 'accuracy': 0.9792447686195374}\n",
      "{'loss': 0.08735954761505127, 'accuracy': 0.9789236187934875}\n",
      "{'loss': 0.08609497547149658, 'accuracy': 0.9796180725097656}\n",
      "{'loss': 0.1149606704711914, 'accuracy': 0.9750260710716248}\n",
      "{'loss': 0.08999508619308472, 'accuracy': 0.9788715243339539}\n",
      "{'loss': 0.1134423017501831, 'accuracy': 0.9741666913032532}\n",
      "{'loss': 0.0991065502166748, 'accuracy': 0.9773263931274414}\n",
      "{'loss': 0.093394935131073, 'accuracy': 0.9774913191795349}\n",
      "{'loss': 0.07617366313934326, 'accuracy': 0.9820051789283752}\n",
      "{'loss': 0.08385223150253296, 'accuracy': 0.9805381894111633}\n",
      "{'loss': 0.08036458492279053, 'accuracy': 0.9813194274902344}\n",
      "{'loss': 0.0778699517250061, 'accuracy': 0.9817708134651184}\n",
      "{'loss': 0.10231626033782959, 'accuracy': 0.9765625}\n",
      "{'loss': 0.1024017333984375, 'accuracy': 0.9766232371330261}\n",
      "{'loss': 0.08476704359054565, 'accuracy': 0.9792534708976746}\n",
      "{'loss': 0.08991843461990356, 'accuracy': 0.9780121445655823}\n",
      "{'loss': 0.08798307180404663, 'accuracy': 0.9795572757720947}\n",
      "{'loss': 0.0692790150642395, 'accuracy': 0.9834027886390686}\n",
      "{'loss': 0.09524846076965332, 'accuracy': 0.9770051836967468}\n",
      "{'loss': 0.0691993236541748, 'accuracy': 0.9833593964576721}\n",
      "{'loss': 0.07230335474014282, 'accuracy': 0.9825521111488342}\n",
      "{'loss': 0.08162128925323486, 'accuracy': 0.9797222018241882}\n",
      "{'loss': 0.09097045660018921, 'accuracy': 0.9781770706176758}\n",
      "{'loss': 0.07286322116851807, 'accuracy': 0.9823697805404663}\n",
      "{'loss': 0.08114129304885864, 'accuracy': 0.9807204604148865}\n",
      "{'loss': 0.06973612308502197, 'accuracy': 0.9834635257720947}\n",
      "{'loss': 0.07549035549163818, 'accuracy': 0.9816145896911621}\n",
      "{'loss': 0.0723494291305542, 'accuracy': 0.9827777743339539}\n",
      "{'loss': 0.08956289291381836, 'accuracy': 0.9783246517181396}\n",
      "{'loss': 0.07797026634216309, 'accuracy': 0.9813975691795349}\n",
      "{'loss': 0.06908977031707764, 'accuracy': 0.983411431312561}\n",
      "{'loss': 0.07404947280883789, 'accuracy': 0.9826822876930237}\n",
      "{'loss': 0.09281736612319946, 'accuracy': 0.9780381917953491}\n",
      "{'loss': 0.07013165950775146, 'accuracy': 0.9832465052604675}\n",
      "{'loss': 0.0695340633392334, 'accuracy': 0.983715295791626}\n",
      "{'loss': 0.07607746124267578, 'accuracy': 0.9820051789283752}\n",
      "{'loss': 0.06773960590362549, 'accuracy': 0.9839062690734863}\n",
      "{'loss': 0.08146178722381592, 'accuracy': 0.9800607562065125}\n",
      "{'loss': 0.06440162658691406, 'accuracy': 0.9847482442855835}\n",
      "{'loss': 0.07235610485076904, 'accuracy': 0.9828298687934875}\n",
      "{'loss': 0.07174825668334961, 'accuracy': 0.9831684231758118}\n",
      "{'loss': 0.07773923873901367, 'accuracy': 0.9816232919692993}\n",
      "{'loss': 0.06461858749389648, 'accuracy': 0.9838454723358154}\n",
      "{'loss': 0.06877613067626953, 'accuracy': 0.9831510186195374}\n",
      "{'loss': 0.0864567756652832, 'accuracy': 0.9802690744400024}\n",
      "{'loss': 0.05731987953186035, 'accuracy': 0.9860937595367432}\n",
      "{'loss': 0.06485915184020996, 'accuracy': 0.984496533870697}\n",
      "{'loss': 0.08210927248001099, 'accuracy': 0.9805729389190674}\n",
      "{'loss': 0.05917537212371826, 'accuracy': 0.9850607514381409}\n",
      "{'loss': 0.06447052955627441, 'accuracy': 0.984704852104187}\n",
      "{'loss': 0.06110584735870361, 'accuracy': 0.9847742915153503}\n",
      "{'loss': 0.08121919631958008, 'accuracy': 0.9797742962837219}\n",
      "{'loss': 0.07471972703933716, 'accuracy': 0.9822396039962769}\n",
      "{'loss': 0.06559348106384277, 'accuracy': 0.984618067741394}\n",
      "{'loss': 0.056120216846466064, 'accuracy': 0.9861458539962769}\n",
      "{'loss': 0.06335735321044922, 'accuracy': 0.9844270944595337}\n",
      "{'loss': 0.05758488178253174, 'accuracy': 0.9858333468437195}\n",
      "{'loss': 0.051178812980651855, 'accuracy': 0.9875086545944214}\n",
      "{'loss': 0.06429529190063477, 'accuracy': 0.984288215637207}\n",
      "{'loss': 0.0745537281036377, 'accuracy': 0.9827864766120911}\n",
      "{'loss': 0.06923544406890869, 'accuracy': 0.9836198091506958}\n",
      "{'loss': 0.061782896518707275, 'accuracy': 0.9852343797683716}\n",
      "{'loss': 0.058509111404418945, 'accuracy': 0.985789954662323}\n",
      "{'loss': 0.07114660739898682, 'accuracy': 0.9829687476158142}\n",
      "{'loss': 0.0667724609375, 'accuracy': 0.9835156202316284}\n",
      "{'loss': 0.05935859680175781, 'accuracy': 0.9855902791023254}\n",
      "{'loss': 0.050921499729156494, 'accuracy': 0.9878385663032532}\n",
      "{'loss': 0.06486201286315918, 'accuracy': 0.9837499856948853}\n",
      "{'loss': 0.06021749973297119, 'accuracy': 0.984947919845581}\n",
      "{'loss': 0.06875944137573242, 'accuracy': 0.9832899570465088}\n",
      "{'loss': 0.05441164970397949, 'accuracy': 0.9867882132530212}\n",
      "{'loss': 0.06102252006530762, 'accuracy': 0.9851475954055786}\n",
      "{'loss': 0.059866905212402344, 'accuracy': 0.9853993058204651}\n",
      "{'loss': 0.053501904010772705, 'accuracy': 0.9872048497200012}\n",
      "{'loss': 0.05706864595413208, 'accuracy': 0.9865972399711609}\n",
      "{'loss': 0.0677117109298706, 'accuracy': 0.9844183921813965}\n",
      "{'loss': 0.06382995843887329, 'accuracy': 0.9845572710037231}\n",
      "{'loss': 0.049976646900177, 'accuracy': 0.9877864718437195}\n",
      "{'loss': 0.06538712978363037, 'accuracy': 0.9849392175674438}\n",
      "{'loss': 0.05918395519256592, 'accuracy': 0.9859114289283752}\n",
      "{'loss': 0.04745286703109741, 'accuracy': 0.988315999507904}\n",
      "{'loss': 0.05101335048675537, 'accuracy': 0.9877256751060486}\n",
      "{'loss': 0.07109594345092773, 'accuracy': 0.9825347065925598}\n",
      "{'loss': 0.065582275390625, 'accuracy': 0.9844183921813965}\n",
      "{'loss': 0.05395019054412842, 'accuracy': 0.9870746731758118}\n",
      "{'loss': 0.054351806640625, 'accuracy': 0.9868229031562805}\n",
      "{'loss': 0.05547070503234863, 'accuracy': 0.9863194227218628}\n",
      "{'loss': 0.05382239818572998, 'accuracy': 0.9871180653572083}\n",
      "{'loss': 0.06027233600616455, 'accuracy': 0.9860069155693054}\n",
      "{'loss': 0.07082772254943848, 'accuracy': 0.9827430844306946}\n",
      "{'loss': 0.05488622188568115, 'accuracy': 0.9865798354148865}\n",
      "{'loss': 0.06181222200393677, 'accuracy': 0.9855034947395325}\n",
      "{'loss': 0.05544781684875488, 'accuracy': 0.98653644323349}\n",
      "{'loss': 0.053751587867736816, 'accuracy': 0.9870833158493042}\n",
      "{'loss': 0.05642509460449219, 'accuracy': 0.9863715171813965}\n",
      "{'loss': 0.05532252788543701, 'accuracy': 0.9868749976158142}\n",
      "{'loss': 0.05167889595031738, 'accuracy': 0.9875434041023254}\n",
      "{'loss': 0.05426907539367676, 'accuracy': 0.9871267080307007}\n",
      "{'loss': 0.05998384952545166, 'accuracy': 0.9854426980018616}\n",
      "{'loss': 0.05290365219116211, 'accuracy': 0.9872656464576721}\n",
      "{'loss': 0.04795527458190918, 'accuracy': 0.9882205128669739}\n",
      "{'loss': 0.05061042308807373, 'accuracy': 0.9877343773841858}\n",
      "{'loss': 0.05168497562408447, 'accuracy': 0.9874131679534912}\n",
      "{'loss': 0.047251343727111816, 'accuracy': 0.9887239336967468}\n",
      "{'loss': 0.0661773681640625, 'accuracy': 0.9835764169692993}\n",
      "{'loss': 0.04917740821838379, 'accuracy': 0.9879426956176758}\n",
      "{'loss': 0.048197388648986816, 'accuracy': 0.9883333444595337}\n",
      "{'loss': 0.049254417419433594, 'accuracy': 0.988159716129303}\n",
      "{'loss': 0.04931461811065674, 'accuracy': 0.9877604246139526}\n",
      "{'loss': 0.05939936637878418, 'accuracy': 0.9856944680213928}\n",
      "{'loss': 0.0443684458732605, 'accuracy': 0.9890017509460449}\n",
      "{'loss': 0.0441514253616333, 'accuracy': 0.9891840219497681}\n",
      "{'loss': 0.05919158458709717, 'accuracy': 0.9860243201255798}\n",
      "{'loss': 0.04128146171569824, 'accuracy': 0.9899131655693054}\n",
      "{'loss': 0.04638659954071045, 'accuracy': 0.9888628721237183}\n",
      "{'loss': 0.04670083522796631, 'accuracy': 0.9888281226158142}\n",
      "{'loss': 0.05284154415130615, 'accuracy': 0.9876041412353516}\n",
      "{'loss': 0.05542254447937012, 'accuracy': 0.9863541722297668}\n",
      "{'loss': 0.04550457000732422, 'accuracy': 0.9890885353088379}\n",
      "{'loss': 0.056421875953674316, 'accuracy': 0.9865451455116272}\n",
      "{'loss': 0.05386132001876831, 'accuracy': 0.9870486259460449}\n",
      "{'loss': 0.053987741470336914, 'accuracy': 0.986901044845581}\n",
      "{'loss': 0.052542924880981445, 'accuracy': 0.9874739646911621}\n",
      "{'loss': 0.04805707931518555, 'accuracy': 0.9886631965637207}\n",
      "{'loss': 0.046407103538513184, 'accuracy': 0.98848956823349}\n",
      "{'loss': 0.04849660396575928, 'accuracy': 0.9884114861488342}\n",
      "{'loss': 0.04783010482788086, 'accuracy': 0.9887413382530212}\n",
      "{'loss': 0.05465972423553467, 'accuracy': 0.9868055582046509}\n",
      "{'loss': 0.05208343267440796, 'accuracy': 0.9874739646911621}\n",
      "{'loss': 0.04989141225814819, 'accuracy': 0.9881510138511658}\n",
      "{'loss': 0.057125985622406006, 'accuracy': 0.9864583611488342}\n",
      "{'loss': 0.054018497467041016, 'accuracy': 0.9868055582046509}\n",
      "{'loss': 0.04740983247756958, 'accuracy': 0.98848956823349}\n",
      "{'loss': 0.04034149646759033, 'accuracy': 0.990199625492096}\n",
      "{'loss': 0.05938684940338135, 'accuracy': 0.9859374761581421}\n",
      "{'loss': 0.04580932855606079, 'accuracy': 0.9889583587646484}\n",
      "{'loss': 0.07947397232055664, 'accuracy': 0.9815104007720947}\n",
      "{'loss': 0.045155465602874756, 'accuracy': 0.9888975620269775}\n",
      "{'loss': 0.05762982368469238, 'accuracy': 0.9861371517181396}\n",
      "{'loss': 0.04592406749725342, 'accuracy': 0.9890103936195374}\n",
      "{'loss': 0.05905228853225708, 'accuracy': 0.9861892461776733}\n",
      "{'loss': 0.050382018089294434, 'accuracy': 0.9880121350288391}\n"
     ]
    }
   ],
   "source": [
    "# no. of epoches in range\n",
    "for _ in range(200):\n",
    "        for w in final_unet_dataset:\n",
    "            loss=unet_model.train_on_batch(w[0],w[1],return_dict=True)\n",
    "        print(loss)"
   ]
  },
  {
   "cell_type": "code",
   "execution_count": 22,
   "metadata": {},
   "outputs": [
    {
     "data": {
      "image/png": "[encoded data removed]",
      "text/plain": [
       "<Figure size 640x480 with 1 Axes>"
      ]
     },
     "metadata": {},
     "output_type": "display_data"
    }
   ],
   "source": [
    "unet_pred=unet_model(np.expand_dims(X_test[0],0))\n",
    "plt.imshow(np.argmax(unet_pred[0], axis=-1))\n",
    "plt.show()\n"
   ]
  },
  {
   "cell_type": "code",
   "execution_count": 23,
   "metadata": {},
   "outputs": [
    {
     "data": {
      "image/png": "[encoded data removed]",
      "text/plain": [
       "<Figure size 640x480 with 1 Axes>"
      ]
     },
     "metadata": {},
     "output_type": "display_data"
    }
   ],
   "source": [
    "plt.imshow(X_test[0])\n",
    "plt.show()"
   ]
  },
  {
   "cell_type": "code",
   "execution_count": 24,
   "metadata": {},
   "outputs": [],
   "source": [
    "def DICE_COE(mask1, mask2):\n",
    "    intersect = np.sum(mask1*mask2)\n",
    "    fsum = np.sum(mask1)\n",
    "    ssum = np.sum(mask2)\n",
    "    dice = (2 * intersect ) / (fsum + ssum)\n",
    "    dice = np.mean(dice)\n",
    "    dice = round(dice, 3) # for easy reading\n",
    "    return dice "
   ]
  },
  {
   "cell_type": "code",
   "execution_count": 25,
   "metadata": {},
   "outputs": [
    {
     "data": {
      "image/png": "[encoded data removed]",
      "text/plain": [
       "<Figure size 640x480 with 1 Axes>"
      ]
     },
     "metadata": {},
     "output_type": "display_data"
    }
   ],
   "source": [
    "unet_preds=unet_model(X_test[0:50])\n",
    "plt.imshow(np.argmax(unet_pred[0], axis=-1))\n",
    "plt.show()"
   ]
  },
  {
   "cell_type": "code",
   "execution_count": 26,
   "metadata": {},
   "outputs": [
    {
     "data": {
      "text/plain": [
       "<matplotlib.image.AxesImage at 0x7e94f5cbd990>"
      ]
     },
     "execution_count": 26,
     "metadata": {},
     "output_type": "execute_result"
    },
    {
     "data": {
      "image/png": "[encoded data removed]",
      "text/plain": [
       "<Figure size 640x480 with 1 Axes>"
      ]
     },
     "metadata": {},
     "output_type": "display_data"
    }
   ],
   "source": [
    "plt.imshow(test_masks_array[0])"
   ]
  },
  {
   "cell_type": "code",
   "execution_count": 27,
   "metadata": {},
   "outputs": [],
   "source": [
    "dice_scores=[]"
   ]
  },
  {
   "cell_type": "code",
   "execution_count": 28,
   "metadata": {},
   "outputs": [
    {
     "data": {
      "text/plain": [
       "(240, 240)"
      ]
     },
     "execution_count": 28,
     "metadata": {},
     "output_type": "execute_result"
    }
   ],
   "source": [
    "np.argmax(unet_pred[0], axis=-1).shape"
   ]
  },
  {
   "cell_type": "code",
   "execution_count": 29,
   "metadata": {},
   "outputs": [
    {
     "data": {
      "text/plain": [
       "array([[0., 0., 0., ..., 0., 0., 0.],\n",
       "       [0., 0., 0., ..., 0., 0., 0.],\n",
       "       [0., 0., 0., ..., 0., 0., 0.],\n",
       "       ...,\n",
       "       [0., 0., 0., ..., 0., 0., 0.],\n",
       "       [0., 0., 0., ..., 0., 0., 0.],\n",
       "       [0., 0., 0., ..., 0., 0., 0.]])"
      ]
     },
     "execution_count": 29,
     "metadata": {},
     "output_type": "execute_result"
    }
   ],
   "source": [
    "test_masks_array[0].reshape((240,240))"
   ]
  },
  {
   "cell_type": "code",
   "execution_count": 30,
   "metadata": {},
   "outputs": [
    {
     "name": "stdout",
     "output_type": "stream",
     "text": [
      "0\n",
      "1\n",
      "2\n",
      "3\n",
      "4\n",
      "5\n",
      "6\n",
      "7\n",
      "8\n",
      "9\n",
      "10\n",
      "11\n",
      "12\n",
      "13\n",
      "14\n",
      "15\n",
      "16\n",
      "17\n",
      "18\n",
      "19\n",
      "20\n",
      "21\n",
      "22\n",
      "23\n",
      "24\n",
      "25\n",
      "26\n",
      "27\n",
      "28\n",
      "29\n",
      "30\n",
      "31\n",
      "32\n",
      "33\n",
      "34\n",
      "35\n",
      "36\n",
      "37\n",
      "38\n",
      "39\n",
      "40\n",
      "41\n",
      "42\n",
      "43\n",
      "44\n",
      "45\n",
      "46\n",
      "47\n",
      "48\n",
      "49\n"
     ]
    }
   ],
   "source": [
    "for i in range(50):\n",
    "    print(i)\n",
    "    \n",
    "    dice=DICE_COE(np.argmax(unet_preds[i], axis=-1),test_masks_array[i].reshape((240,240)))\n",
    "    dice_scores.append(dice)"
   ]
  },
  {
   "cell_type": "code",
   "execution_count": 31,
   "metadata": {},
   "outputs": [
    {
     "data": {
      "text/plain": [
       "[0.701,\n",
       " 0.443,\n",
       " 0.641,\n",
       " 0.249,\n",
       " 0.646,\n",
       " 0.345,\n",
       " 0.44,\n",
       " 0.347,\n",
       " 0.847,\n",
       " 0.348,\n",
       " 0.236,\n",
       " 0.131,\n",
       " 0.216,\n",
       " 0.402,\n",
       " 0.901,\n",
       " 0.418,\n",
       " 0.399,\n",
       " 0.294,\n",
       " 0.44,\n",
       " 0.348,\n",
       " 0.297,\n",
       " 0.28,\n",
       " 0.316,\n",
       " 0.211,\n",
       " 0.197,\n",
       " 0.677,\n",
       " 0.624,\n",
       " 0.714,\n",
       " 0.403,\n",
       " 0.635,\n",
       " 0.279,\n",
       " 0.54,\n",
       " 0.366,\n",
       " 0.878,\n",
       " 0.581,\n",
       " 0.426,\n",
       " 0.48,\n",
       " 0.164,\n",
       " 0.614,\n",
       " 0.276,\n",
       " 0.333,\n",
       " 0.439,\n",
       " 0.223,\n",
       " 0.347,\n",
       " 0.329,\n",
       " 0.376,\n",
       " 0.805,\n",
       " 0.156,\n",
       " 0.178,\n",
       " 0.389]"
      ]
     },
     "execution_count": 31,
     "metadata": {},
     "output_type": "execute_result"
    }
   ],
   "source": [
    "dice_scores"
   ]
  },
  {
   "cell_type": "code",
   "execution_count": 32,
   "metadata": {},
   "outputs": [
    {
     "data": {
      "text/plain": [
       "(array([ 5.,  8., 10.,  8.,  5.,  2.,  5.,  3.,  1.,  3.]),\n",
       " array([0.131, 0.208, 0.285, 0.362, 0.439, 0.516, 0.593, 0.67 , 0.747,\n",
       "        0.824, 0.901]),\n",
       " <BarContainer object of 10 artists>)"
      ]
     },
     "execution_count": 32,
     "metadata": {},
     "output_type": "execute_result"
    },
    {
     "data": {
      "image/png": "[encoded data removed]",
      "text/plain": [
       "<Figure size 640x480 with 1 Axes>"
      ]
     },
     "metadata": {},
     "output_type": "display_data"
    }
   ],
   "source": [
    "plt.hist(dice_scores)"
   ]
  },
  {
   "cell_type": "code",
   "execution_count": 33,
   "metadata": {},
   "outputs": [],
   "source": [
    "unet_model.save_weights('unet_model_weights_250_200')"
   ]
  },
  {
   "cell_type": "code",
   "execution_count": 34,
   "metadata": {},
   "outputs": [],
   "source": [
    "import pandas as pd\n",
    "df=pd.DataFrame(dice_scores)\n",
    "df.to_csv('Unet_Model_Dice_Scores_250_200.csv')"
   ]
  },
  {
   "cell_type": "code",
   "execution_count": null,
   "metadata": {},
   "outputs": [],
   "source": []
  }
 ],
 "metadata": {
  "kernelspec": {
   "display_name": ".venv",
   "language": "python",
   "name": "python3"
  },
  "language_info": {
   "codemirror_mode": {
    "name": "ipython",
    "version": 3
   },
   "file_extension": ".py",
   "mimetype": "text/x-python",
   "name": "python",
   "nbconvert_exporter": "python",
   "pygments_lexer": "ipython3",
   "version": "3.10.12"
  }
 },
 "nbformat": 4,
 "nbformat_minor": 2
}
